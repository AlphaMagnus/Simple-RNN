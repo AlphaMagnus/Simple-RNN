{
 "cells": [
  {
   "cell_type": "code",
   "execution_count": 5,
   "metadata": {},
   "outputs": [],
   "source": [
    "from tensorflow.python import keras\n",
    "from keras._tf_keras.keras.preprocessing.text import one_hot"
   ]
  },
  {
   "cell_type": "markdown",
   "metadata": {},
   "source": [
    "### Sentences"
   ]
  },
  {
   "cell_type": "code",
   "execution_count": 7,
   "metadata": {},
   "outputs": [],
   "source": [
    "sent = [\n",
    "    'the glass of water',\n",
    "    'a cup of watermelon juice',\n",
    "    'a glass of red scottish wine',\n",
    "    'I am a DL Enthusiast',\n",
    "    'My Laptop is Legion 5',\n",
    "    'A plate full of my favourite food'\n",
    "]\n",
    "\n",
    "\n",
    "vocabSize = 15000"
   ]
  },
  {
   "cell_type": "markdown",
   "metadata": {},
   "source": [
    "### One Hot Representation"
   ]
  },
  {
   "cell_type": "code",
   "execution_count": 9,
   "metadata": {},
   "outputs": [
    {
     "data": {
      "text/plain": [
       "[[14247, 3567, 2226, 8949],\n",
       " [7878, 9963, 2226, 2202, 6452],\n",
       " [7878, 3567, 2226, 897, 352, 4740],\n",
       " [8253, 9133, 7878, 3958, 9994],\n",
       " [2501, 1066, 10905, 144, 13265],\n",
       " [7878, 6617, 11617, 2226, 2501, 11571, 10576]]"
      ]
     },
     "execution_count": 9,
     "metadata": {},
     "output_type": "execute_result"
    }
   ],
   "source": [
    "oneHotRep = [one_hot(words, vocabSize) for words in sent]\n",
    "oneHotRep"
   ]
  },
  {
   "cell_type": "markdown",
   "metadata": {},
   "source": [
    "### Word Embedding Representation"
   ]
  },
  {
   "cell_type": "code",
   "execution_count": 11,
   "metadata": {},
   "outputs": [],
   "source": [
    "from tensorflow.python.keras.layers import Embedding\n",
    "from keras._tf_keras.keras.utils import pad_sequences\n",
    "from tensorflow.python.keras.models import Sequential\n",
    "\n",
    "import numpy as np"
   ]
  },
  {
   "cell_type": "code",
   "execution_count": 25,
   "metadata": {},
   "outputs": [
    {
     "data": {
      "text/plain": [
       "array([[    0,     0,     0,     0,     0,     0, 14247,  3567,  2226,\n",
       "         8949],\n",
       "       [    0,     0,     0,     0,     0,  7878,  9963,  2226,  2202,\n",
       "         6452],\n",
       "       [    0,     0,     0,     0,  7878,  3567,  2226,   897,   352,\n",
       "         4740],\n",
       "       [    0,     0,     0,     0,     0,  8253,  9133,  7878,  3958,\n",
       "         9994],\n",
       "       [    0,     0,     0,     0,     0,  2501,  1066, 10905,   144,\n",
       "        13265],\n",
       "       [    0,     0,     0,  7878,  6617, 11617,  2226,  2501, 11571,\n",
       "        10576]])"
      ]
     },
     "execution_count": 25,
     "metadata": {},
     "output_type": "execute_result"
    }
   ],
   "source": [
    "sentLength = 10\n",
    "embeddedDocs = pad_sequences(oneHotRep, padding = 'pre', maxlen = sentLength)\n",
    "embeddedDocs"
   ]
  },
  {
   "cell_type": "markdown",
   "metadata": {},
   "source": [
    "### Feature Representation"
   ]
  },
  {
   "cell_type": "code",
   "execution_count": 22,
   "metadata": {},
   "outputs": [],
   "source": [
    "dim = 10\n",
    "\n",
    "model = Sequential()\n",
    "model.add(Embedding(vocabSize, dim, input_length = sentLength))\n",
    "model.compile('adam', 'mse')"
   ]
  },
  {
   "cell_type": "code",
   "execution_count": 23,
   "metadata": {},
   "outputs": [
    {
     "name": "stdout",
     "output_type": "stream",
     "text": [
      "Model: \"sequential_1\"\n",
      "_________________________________________________________________\n",
      "Layer (type)                 Output Shape              Param #   \n",
      "=================================================================\n",
      "embedding_1 (Embedding)      (None, 10, 10)            150000    \n",
      "=================================================================\n",
      "Total params: 150,000\n",
      "Trainable params: 150,000\n",
      "Non-trainable params: 0\n",
      "_________________________________________________________________\n"
     ]
    }
   ],
   "source": [
    "model.summary()"
   ]
  }
 ],
 "metadata": {
  "kernelspec": {
   "display_name": "base",
   "language": "python",
   "name": "python3"
  },
  "language_info": {
   "codemirror_mode": {
    "name": "ipython",
    "version": 3
   },
   "file_extension": ".py",
   "mimetype": "text/x-python",
   "name": "python",
   "nbconvert_exporter": "python",
   "pygments_lexer": "ipython3",
   "version": "3.12.3"
  }
 },
 "nbformat": 4,
 "nbformat_minor": 2
}
